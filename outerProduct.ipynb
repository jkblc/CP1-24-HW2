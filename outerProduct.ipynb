{
 "cells": [
  {
   "cell_type": "markdown",
   "metadata": {},
   "source": [
    "## outer product via Loop"
   ]
  },
  {
   "cell_type": "code",
   "execution_count": null,
   "metadata": {},
   "outputs": [],
   "source": [
    "import numpy as np\n",
    "import time\n",
    "\n",
    "\n",
    "def loopOuterProduct(v1,v2):\n",
    "    \"\"\"loopOuterProduct takes the outer product of v1 and v2 using a loop \"\"\"\n",
    "    \"\"\"v1 and v2 are vectors\"\"\"\n",
    "    \"\"\"Returns the outer product and the time taken by the loop\"\"\"\n",
    "    m=[] #m is declared as a list. It will have other lists appended to it such that it becomes a matrix\n",
    "\n",
    "    start=time.perf_counter() #Start is the initial time at which the loop starts\n",
    "\n",
    "    #This loop goes through the length of v1, producing a new row of the matrix each time. \n",
    "    for i in range(len(v1)):\n",
    "        m.append([])\n",
    "\n",
    "        #This nested loop goes through the length of v2, producing len(v2) elements defined by v1[i]*v2[j] \n",
    "        for j in range(len(v2)):\n",
    "            m[i].append(v1[i]*v2[j])\n",
    "\n",
    "    end=time.perf_counter() #End is the time at which the loop finishes. \n",
    "\n",
    "    t=end-start #t=end-start is the total time it takes for the loop to run\n",
    "\n",
    "    return m, t #The matrix and the time taken are returned."
   ]
  },
  {
   "cell_type": "markdown",
   "metadata": {},
   "source": [
    "## Outer Product via np.outer"
   ]
  },
  {
   "cell_type": "code",
   "execution_count": null,
   "metadata": {},
   "outputs": [],
   "source": [
    "import numpy as np\n",
    "import time\n",
    " \n",
    "def npOuterProduct(v1,v2):\n",
    "    \"\"\"npOuterProduct takes the outer product of v1 and v2 using a np.outer\"\"\"\n",
    "    \"\"\"v1 and v2 are vectors\"\"\"\n",
    "    \"\"\"Returns the outer product and the time taken by the np.outer\"\"\"\n",
    "    start=time.perf_counter()#Start is the initial time at which the function starts\n",
    "\n",
    "    x=np.outer(v1,v2) #x is the matrix produced by np.outer\n",
    "\n",
    "    end=time.perf_counter() #End is the time at which the loop finishes. \n",
    "\n",
    "    t=end-start #t=end-start is the total time it takes for the loop to run\n",
    "\n",
    "    return x,t #The outer product and the time taken to calculate are returned. "
   ]
  },
  {
   "cell_type": "markdown",
   "metadata": {},
   "source": [
    "## Outer Product via Einsum"
   ]
  },
  {
   "cell_type": "code",
   "execution_count": null,
   "metadata": {},
   "outputs": [],
   "source": [
    "import numpy as np\n",
    "import time\n",
    "\n",
    "def einSum(v1,v2):\n",
    "    \"\"\"einSum takes the outer product of v1 and v2 using a np.einsum \"\"\"\n",
    "    \"\"\"v1 and v2 are vectors\"\"\"\n",
    "    \"\"\"Returns the outer product and the time taken by the np.einsum\"\"\"\n",
    "    start=time.perf_counter() #Start is the initial time at which the function starts\n",
    "\n",
    "    x=np.einsum(\"i,j\", v1,v2) #x is the matrix produced by np.einsum\n",
    "\n",
    "    end=time.perf_counter() #End is the time at which the loop finishes. \n",
    "\n",
    "    t=end-start #t=end-start is the total time it takes for the loop to run\n",
    "\n",
    "    return x,t #The outer product and the time taken to calculate are returned. "
   ]
  },
  {
   "cell_type": "markdown",
   "metadata": {},
   "source": [
    "## Results"
   ]
  },
  {
   "cell_type": "code",
   "execution_count": null,
   "metadata": {},
   "outputs": [],
   "source": [
    "from pVectorGenerator import vectorGen\n",
    "import numpy as np\n",
    "#Two vectors are produced by vectorGen such that the outer product of them may be taken\n",
    "v1=vectorGen(100,-2,2,10)\n",
    "v2=vectorGen(100,-2,2,50)\n",
    "\n",
    "v2=np.conjugate(v2)\n",
    "\n",
    "#The resulting times for each method are printed. \n",
    "print(\"The loop took \"+str(loopOuterProduct(v1,v2)[1])+\" seconds to calculate the outer product.\")\n",
    "print(\"The numpy.outer function took \"+str(npOuterProduct(v1,v2)[1])+\" seconds to calculate the outer product\")\n",
    "print(\"The numpy.Einsum function took \"+str(einSum(v1,v2)[1])+\" seconds to calculate the outer product\")\n",
    "\n",
    "#Sums are declared such that I can take average times of the functions.\n",
    "sum1=0\n",
    "sum2=0\n",
    "sum3=0\n",
    "\n",
    "n=100 #n defines the length of the vectors. Note: Tends to crash the kernel at 100000 and above. \n",
    "\n",
    "num=5 #num defines the number over which the times are averaged.\n",
    "\n",
    "#This loop calculates the times taken by the functions num times and sums them.\n",
    "for i in range(num):\n",
    "    v1=vectorGen(n,-1,1,50)\n",
    "    v2=vectorGen(n,-1,1,50)\n",
    "    v2=np.conjugate(v2)\n",
    "    sum1+=(loopOuterProduct(v1,v2)[1])\n",
    "    sum2+=(npOuterProduct(v1,v2)[1])\n",
    "    sum3+=(einSum(v1,v2)[1])\n",
    "\n",
    "#The average times are printed out.\n",
    "print(\"Now, taking average times for outer product of two vectors with length\",n,\":\")\n",
    "print(\"The average time taken by the loop is\",sum1/num,\"seconds.\")\n",
    "print(\"The average time taken by np.outer is\",sum2/num,\"seconds.\")\n",
    "print(\"The average time taken by the np.einsum is\",sum3/num,\"seconds.\")"
   ]
  },
  {
   "cell_type": "markdown",
   "metadata": {},
   "source": [
    "## Analysis\n",
    "\n",
    "When n is 10 and num is 1000, the loop is the slowest, np.outer is the second fastest, and einsum is the fastest\n",
    "When n is 1000 and num is 100, the loop is the slowest, np.outer is the fastest, and einsum is the second fastest\n",
    "When n is 10000 and num is 1, the loop is the slowest, np.outer is the fastest, and einsum is the second fastest\n",
    "\n",
    "With this, einsum is the fastest method for small vectors, but np.outer is faster for very large vectors. "
   ]
  }
 ],
 "metadata": {
  "kernelspec": {
   "display_name": "Python 3",
   "language": "python",
   "name": "python3"
  },
  "language_info": {
   "codemirror_mode": {
    "name": "ipython",
    "version": 3
   },
   "file_extension": ".py",
   "mimetype": "text/x-python",
   "name": "python",
   "nbconvert_exporter": "python",
   "pygments_lexer": "ipython3",
   "version": "3.12.1"
  }
 },
 "nbformat": 4,
 "nbformat_minor": 2
}
