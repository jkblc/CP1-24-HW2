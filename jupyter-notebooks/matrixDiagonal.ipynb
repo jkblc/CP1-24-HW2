{
 "cells": [
  {
   "cell_type": "code",
   "execution_count": 19,
   "id": "0f083581-a9cd-486f-9e5f-128d82d2c884",
   "metadata": {},
   "outputs": [
    {
     "name": "stdout",
     "output_type": "stream",
     "text": [
      "get_diagonal_custom() invoked.\n",
      "Diagonal elements (as numpy array): [1 5 9]\n",
      "[1 5 9]\n",
      "get_diagonal_numpy() invoked.\n",
      "[1 5 9]\n"
     ]
    }
   ],
   "source": [
    "# get the os module and change to parent dir\n",
    "import os\n",
    "os.chdir(os.path.join(os.getcwd(), os.pardir))\n",
    "\n",
    "#import numpy\n",
    "import numpy as np\n",
    "\n",
    "#import the matrix operations module\n",
    "from matrix_operations import get_diagonal\n",
    "\n",
    "matrix = np.array([[1, 2, 3],\n",
    "                       [4, 5, 6],\n",
    "                       [7, 8, 9]])\n",
    "\n",
    "#invoke the custom version\n",
    "print(get_diagonal(matrix, True))\n",
    "\n",
    "#invoke the np provided version\n",
    "print(get_diagonal(matrix, False)) # you can also omit the second param to get this behavior"
   ]
  }
 ],
 "metadata": {
  "kernelspec": {
   "display_name": "Python 3 (ipykernel)",
   "language": "python",
   "name": "python3"
  },
  "language_info": {
   "codemirror_mode": {
    "name": "ipython",
    "version": 3
   },
   "file_extension": ".py",
   "mimetype": "text/x-python",
   "name": "python",
   "nbconvert_exporter": "python",
   "pygments_lexer": "ipython3",
   "version": "3.9.6"
  }
 },
 "nbformat": 4,
 "nbformat_minor": 5
}
